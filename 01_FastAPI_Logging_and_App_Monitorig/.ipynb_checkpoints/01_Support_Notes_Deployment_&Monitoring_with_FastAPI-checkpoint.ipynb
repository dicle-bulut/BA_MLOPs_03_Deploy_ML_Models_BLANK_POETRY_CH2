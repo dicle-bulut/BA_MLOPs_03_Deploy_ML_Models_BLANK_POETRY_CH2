{
 "cells": [
  {
   "cell_type": "markdown",
   "id": "af5af19a",
   "metadata": {},
   "source": [
    "<img src=\"LandingPage-Header-RED-CENTRE.jpg\" alt=\"Notebook Banner\" style=\"width:100%; height:auto; display:block; margin-left:auto; margin-right:auto;\">"
   ]
  },
  {
   "cell_type": "markdown",
   "id": "8adf9a89",
   "metadata": {},
   "source": [
    "# FastAPI\n",
    "\n",
    "## Model Deployment and Evaluation using FastAPI\n",
    "\n",
    "Let's walk through a basic workflow demonstrating how FastAPI can be used for deployment and monitoring ML models\n",
    "\n",
    "### What is FastAPI?\n",
    "\n",
    "What is FastAPI\n",
    "FastAPI is a modern, high-performance web framework for building APIs with Python 3.7+ using standard Python type hints. It is designed for speed, both in development and execution, and comes with built-in features such as:\n",
    "\n",
    "Automatic data validation\n",
    "\n",
    "Interactive API documentation\n",
    "\n",
    "Dependency injection\n",
    "\n",
    "OAuth2 and JWT support\n",
    "\n",
    "Type-based routing and serialization\n",
    "\n",
    "\n",
    "### Installation & Setup\n",
    "\n",
    "First, you'd install FastAPI, Uvicorn and all other dependacies in your working enviroment.\n",
    "\n"
   ]
  },
  {
   "cell_type": "code",
   "execution_count": null,
   "id": "c939cc19-a093-44ce-b159-a889e74c7d96",
   "metadata": {
    "scrolled": true
   },
   "outputs": [
    {
     "name": "stdout",
     "output_type": "stream",
     "text": [
      "Requirement already satisfied: fastapi in c:\\users\\onyon\\appdata\\local\\programs\\python\\python311\\lib\\site-packages (0.115.12)\n",
      "Requirement already satisfied: uvicorn in c:\\users\\onyon\\appdata\\local\\programs\\python\\python311\\lib\\site-packages (0.34.3)\n",
      "Collecting sklearn\n",
      "  Downloading sklearn-0.0.post12.tar.gz (2.6 kB)\n",
      "  Installing build dependencies: started\n",
      "  Installing build dependencies: finished with status 'done'\n",
      "  Getting requirements to build wheel: started\n",
      "  Getting requirements to build wheel: finished with status 'error'\n",
      "Note: you may need to restart the kernel to use updated packages.\n"
     ]
    },
    {
     "name": "stderr",
     "output_type": "stream",
     "text": [
      "  error: subprocess-exited-with-error\n",
      "  \n",
      "  × Getting requirements to build wheel did not run successfully.\n",
      "  │ exit code: 1\n",
      "  ╰─> [15 lines of output]\n",
      "      The 'sklearn' PyPI package is deprecated, use 'scikit-learn'\n",
      "      rather than 'sklearn' for pip commands.\n",
      "      \n",
      "      Here is how to fix this error in the main use cases:\n",
      "      - use 'pip install scikit-learn' rather than 'pip install sklearn'\n",
      "      - replace 'sklearn' by 'scikit-learn' in your pip requirements files\n",
      "        (requirements.txt, setup.py, setup.cfg, Pipfile, etc ...)\n",
      "      - if the 'sklearn' package is used by one of your dependencies,\n",
      "        it would be great if you take some time to track which package uses\n",
      "        'sklearn' instead of 'scikit-learn' and report it to their issue tracker\n",
      "      - as a last resort, set the environment variable\n",
      "        SKLEARN_ALLOW_DEPRECATED_SKLEARN_PACKAGE_INSTALL=True to avoid this error\n",
      "      \n",
      "      More information is available at\n",
      "      https://github.com/scikit-learn/sklearn-pypi-package\n",
      "      [end of output]\n",
      "  \n",
      "  note: This error originates from a subprocess, and is likely not a problem with pip.\n",
      "\n",
      "[notice] A new release of pip is available: 24.2 -> 25.1.1\n",
      "[notice] To update, run: python.exe -m pip install --upgrade pip\n",
      "error: subprocess-exited-with-error\n",
      "\n",
      "× Getting requirements to build wheel did not run successfully.\n",
      "│ exit code: 1\n",
      "╰─> See above for output.\n",
      "\n",
      "note: This error originates from a subprocess, and is likely not a problem with pip.\n"
     ]
    }
   ],
   "source": [
    "# pip install fastapi uvicorn sklearn scikit-learn pandas numpy joblib mlflow"
   ]
  },
  {
   "cell_type": "markdown",
   "id": "9c146590-ba4e-48ca-9bb8-5de0dd18b8e2",
   "metadata": {},
   "source": [
    "## Importing Required Libraries\n",
    "\n",
    "We begin by importing all the necessary libraries for data processing, machine learning, model evaluation, deployment, and logging. These include:\n",
    "\n",
    "- **Core libraries** like `os`, `pandas`, and `numpy`\n",
    "- **Scikit-learn** tools for preprocessing, modeling, and evaluation\n",
    "- **FastAPI & Pydantic** for building and validating the API\n",
    "- **MLflow** for experiment tracking and model versioning\n",
    "- **Uvicorn & nest_asyncio** for running the FastAPI server inside a notebook (optional)"
   ]
  },
  {
   "cell_type": "code",
   "execution_count": 19,
   "id": "bc563b77",
   "metadata": {},
   "outputs": [],
   "source": [
    "# --- Core Python ---\n",
    "import os\n",
    "import joblib\n",
    "import pandas as pd\n",
    "import numpy as np\n",
    "\n",
    "# --- FastAPI ---\n",
    "from fastapi import FastAPI\n",
    "from pydantic import BaseModel\n",
    "from typing import Optional\n",
    "\n",
    "# --- ML & Preprocessing ---\n",
    "from sklearn.model_selection import train_test_split\n",
    "from sklearn.preprocessing import StandardScaler, OneHotEncoder, LabelEncoder\n",
    "from sklearn.impute import SimpleImputer\n",
    "from sklearn.compose import ColumnTransformer\n",
    "from sklearn.pipeline import Pipeline\n",
    "from sklearn.linear_model import LogisticRegression\n",
    "from sklearn.tree import DecisionTreeClassifier\n",
    "\n",
    "\n",
    "# --- Evaluation ---\n",
    "from sklearn.metrics import accuracy_score, precision_score, recall_score, f1_score, roc_auc_score\n",
    "\n",
    "# --- MLflow (optional if you're loading from MLflow) ---\n",
    "import mlflow\n",
    "import mlflow.sklearn\n",
    "\n",
    "# --- Running FastAPI inside a notebook (optional) ---\n",
    "import nest_asyncio\n",
    "import uvicorn"
   ]
  },
  {
   "cell_type": "markdown",
   "id": "048fe805",
   "metadata": {},
   "source": [
    "## Understanding a Basic FastAPI App\n",
    "\n",
    "Let’s walk through a simple FastAPI example step by step. This will help you understand how FastAPI works and how to run a basic web application.\n",
    "\n",
    "---\n",
    "\n",
    " **The Code**\n",
    "\n",
    "```python\n",
    "from fastapi import FastAPI\n",
    "```\n",
    "**Create FastAPI instance**\n",
    "\n",
    "```python\n",
    "app = FastAPI()\n",
    "```\n",
    "\n",
    "\n",
    "**Define a test route**\n",
    "```python\n",
    "@app.get(\"/\")\n",
    "def read_root():\n",
    "    return {\"message\": \"Hello, FastAPI is working!\"}\n",
    "```"
   ]
  },
  {
   "cell_type": "markdown",
   "id": "bfefc055",
   "metadata": {},
   "source": [
    "## Copy this into test_app.py to see how to create a basic FastAPI"
   ]
  },
  {
   "cell_type": "code",
   "execution_count": null,
   "id": "f8d88c6e",
   "metadata": {},
   "outputs": [],
   "source": [
    "from fastapi import FastAPI\n",
    "\n",
    "# Create FastAPI instance\n",
    "app = FastAPI()\n",
    "\n",
    "# Define a test route\n",
    "@app.get(\"/\")\n",
    "def read_root():\n",
    "    return {\"message\": \"Hello, FastAPI is working!\"}\n",
    "\n",
    "# To run the FastAPI app, use the command:"
   ]
  },
  {
   "cell_type": "markdown",
   "id": "96c95e35",
   "metadata": {},
   "source": [
    "## How to Test FastAPI with Uvicorn\n",
    "\n",
    "On the terminal assuming you have a file named `test_app.py`, you can start the server by navigating to the folder `03 Deploying & Productionising ML Models` and running the following command in a terminal:\n",
    "```bash\n",
    "uvicorn test_app:app --reload\n",
    "```\n"
   ]
  },
  {
   "cell_type": "markdown",
   "id": "f3845b79",
   "metadata": {
    "vscode": {
     "languageId": "powershell"
    }
   },
   "source": [
    "You should see in the terminal:\n",
    "```bash\n",
    "INFO:     Uvicorn running on http://127.0.0.1:8000 (Press CTRL+C to quit)\n",
    "INFO:     Started reloader process [11200] using StatReload\n",
    "INFO:     Started server process [24892]\n",
    "INFO:     Waiting for application startup.\n",
    "INFO:     Application startup complete.\n",
    "```\n",
    "\n",
    "copy and paste into the url bar on your browser http://127.0.0.1:8000 or ctrl + click on the server it provides"
   ]
  },
  {
   "cell_type": "markdown",
   "id": "829c6530",
   "metadata": {},
   "source": [
    "## What is Automatic Documentation\n",
    "FastAPI automatically generates documentation using the OpenAPI specification. This provides:\n",
    "\n",
    "Swagger UI: Interactive web-based API explorer\n",
    "Visit: http://127.0.0.1:8000/docs\n",
    "\n",
    "ReDoc: Alternative documentation UI\n",
    "Visit: http://127.0.0.1:8000/redoc\n",
    "\n",
    "These are generated from the type hints and Pydantic models in the API."
   ]
  },
  {
   "cell_type": "markdown",
   "id": "f94d12b3",
   "metadata": {},
   "source": [
    "## How to Set Roles of Entry\n",
    "\n",
    "In many applications, different users have different levels of access — for example, **admins**, **regular users**, or **guests**. FastAPI allows you to manage this kind of access control using **dependency injection**.\n",
    "\n",
    "This technique lets you enforce rules on certain routes, such as \"only allow admin users\" or \"only allow users with specific permissions.\"\n",
    "\n",
    "---\n",
    "\n",
    "### Example: Role-Based Access Control\n",
    "\n",
    "Let’s say we have a simple way to check the current user's role. We’ll use a dependency to simulate user authentication.\n",
    "\n",
    "```python\n",
    "from fastapi import FastAPI, Depends, HTTPException, status\n",
    "\n",
    "app = FastAPI()\n",
    "\n",
    "# Simulated function to get a user's role (e.g., from a token or session)\n",
    "def get_current_user_role():\n",
    "    # In a real app, you'd check a token or database\n",
    "    return \"user\"  # Try changing this to \"admin\"\n",
    "\n",
    "# Dependency that checks if the user is an admin\n",
    "def require_admin(user_role: str = Depends(get_current_user_role)):\n",
    "    if user_role != \"admin\":\n",
    "        raise HTTPException(\n",
    "            status_code=status.HTTP_403_FORBIDDEN,\n",
    "            detail=\"Access denied: Admins only.\"\n",
    "        )\n",
    "\n",
    "# Open to everyone\n",
    "@app.get(\"/public\")\n",
    "def public_endpoint():\n",
    "    return {\"message\": \"This endpoint is open to all users.\"}\n",
    "\n",
    "# Protected route, only for admins\n",
    "@app.get(\"/admin\", dependencies=[Depends(require_admin)])\n",
    "def admin_endpoint():\n",
    "    return {\"message\": \"Welcome, Admin. You have access to this ro\n"
   ]
  },
  {
   "cell_type": "markdown",
   "id": "e5a8f028",
   "metadata": {},
   "source": [
    "## Copy this into test_app.py to see implementation of roles"
   ]
  },
  {
   "cell_type": "code",
   "execution_count": null,
   "id": "817f1110",
   "metadata": {},
   "outputs": [],
   "source": [
    "from fastapi import FastAPI, Depends, HTTPException, status\n",
    "\n",
    "app = FastAPI()\n",
    "\n",
    "# Simulated function to get the user's role\n",
    "def get_current_user_role():\n",
    "    \"\"\"\n",
    "    Simulates extracting the user's role.\n",
    "    In a real application, you'd decode a JWT token or query the database.\n",
    "    \"\"\"\n",
    "    return \"user\"  # Change this to \"admin\" to simulate admin access\n",
    "\n",
    "# Dependency to require admin role\n",
    "def require_admin(user_role: str = Depends(get_current_user_role)):\n",
    "    if user_role != \"admin\":\n",
    "        raise HTTPException(\n",
    "            status_code=status.HTTP_403_FORBIDDEN,\n",
    "            detail=\"Access denied: Admins only.\"\n",
    "        )\n",
    "\n",
    "# Public route, accessible by anyone\n",
    "@app.get(\"/public\")\n",
    "def public_endpoint():\n",
    "    return {\"message\": \"This endpoint is open to all users.\"}\n",
    "\n",
    "# Admin-only route, protected by role dependency\n",
    "@app.get(\"/admin\", dependencies=[Depends(require_admin)])\n",
    "def admin_endpoint():\n",
    "    return {\"message\": \"Welcome, Admin. You have access to this route.\"}\n"
   ]
  }
 ],
 "metadata": {
  "kernelspec": {
   "display_name": "Python 3 (ipykernel)",
   "language": "python",
   "name": "python3"
  },
  "language_info": {
   "codemirror_mode": {
    "name": "ipython",
    "version": 3
   },
   "file_extension": ".py",
   "mimetype": "text/x-python",
   "name": "python",
   "nbconvert_exporter": "python",
   "pygments_lexer": "ipython3",
   "version": "3.12.7"
  }
 },
 "nbformat": 4,
 "nbformat_minor": 5
}
